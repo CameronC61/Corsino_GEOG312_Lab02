{
  "cells": [
    {
      "cell_type": "markdown",
      "metadata": {
        "id": "CCuPx7N7s9OH"
      },
      "source": [
        "[![image](https://colab.research.google.com/assets/colab-badge.svg)](https://colab.research.google.com/github/giswqs/geog-312/blob/master/labs/lab_02.ipynb)\n",
        "[![image](https://binder.pangeo.io/badge_logo.svg)](https://gishub.org/geog312-pangeo)"
      ]
    },
    {
      "cell_type": "markdown",
      "metadata": {
        "id": "E8-whI55s9OI"
      },
      "source": [
        "**Cameron Corsino**"
      ]
    },
    {
      "cell_type": "code",
      "execution_count": 115,
      "metadata": {
        "id": "nuoxvZphs9OJ",
        "outputId": "f6f97c4e-b829-4000-d794-0a6ac067dc95",
        "colab": {
          "base_uri": "https://localhost:8080/"
        }
      },
      "outputs": [
        {
          "output_type": "stream",
          "name": "stdout",
          "text": [
            "Submitted time: 2023-09-09 15:48:41.289192\n"
          ]
        }
      ],
      "source": [
        "from datetime import datetime\n",
        "\n",
        "now = datetime.now()\n",
        "print(f\"Submitted time: {now}\")"
      ]
    },
    {
      "cell_type": "markdown",
      "metadata": {
        "id": "5jEgqwjFs9OJ"
      },
      "source": [
        "## Question 1\n",
        "**Names:** Store the names of a few of your friends in a list called names. Print\n",
        "each person’s name by accessing each element in the list, one at a time."
      ]
    },
    {
      "cell_type": "code",
      "execution_count": 4,
      "metadata": {
        "colab": {
          "base_uri": "https://localhost:8080/"
        },
        "id": "xxCRn2E5s9OJ",
        "outputId": "5358cf9d-923a-4776-dd2e-669f96c2bc79"
      },
      "outputs": [
        {
          "output_type": "stream",
          "name": "stdout",
          "text": [
            "Matt\n",
            "Scott\n",
            "Flint\n",
            "Kyle\n"
          ]
        }
      ],
      "source": [
        "names = ['Matt','Scott','Flint','Kyle']\n",
        "print(names[0])\n",
        "print(names[1])\n",
        "print(names[2])\n",
        "print(names[3])"
      ]
    },
    {
      "cell_type": "markdown",
      "metadata": {
        "id": "Spot-KCas9OK"
      },
      "source": [
        "## Question 2\n",
        "**Greetings:** Start with the list you used in Question 1, but instead of just printing each person’s name, print a message to them. The text of each message should be the same, but each message should be personalized with the person’s name."
      ]
    },
    {
      "cell_type": "code",
      "execution_count": 27,
      "metadata": {
        "outputId": "888a7f1d-3932-4f84-c10a-5b7b53260864",
        "colab": {
          "base_uri": "https://localhost:8080/"
        },
        "id": "CSWkimAwvUAk"
      },
      "outputs": [
        {
          "output_type": "stream",
          "name": "stdout",
          "text": [
            "Hi Matt, how are you?\n",
            "Hi Scott, how are you?\n",
            "Hi Flint, how are you?\n",
            "Hi Kyle, how are you?\n"
          ]
        }
      ],
      "source": [
        "names = ['Matt','Scott','Flint','Kyle']\n",
        "friend = f\"{names}\"\n",
        "message = f'Hi {names[0]}, how are you?'\n",
        "message_1 = f'Hi {names[1]}, how are you?'\n",
        "message_2 = f'Hi {names[2]}, how are you?'\n",
        "message_3 = f'Hi {names[3]}, how are you?'\n",
        "print(message)\n",
        "print(message_1)\n",
        "print(message_2)\n",
        "print(message_3)"
      ]
    },
    {
      "cell_type": "markdown",
      "metadata": {
        "id": "UXRl6Ncxs9OK"
      },
      "source": [
        "## Question 3\n",
        "**Your Own List:** Think of your favorite mode of transportation, such as a motorcycle or a car, and make a list that stores several examples. Use your list to print a series of statements about these items, such as “I would like to own a Honda motorcycle.”"
      ]
    },
    {
      "cell_type": "code",
      "execution_count": 35,
      "metadata": {
        "id": "HaaTDLKrs9OK",
        "outputId": "122a1b48-5ed5-452c-c96b-83ee0c87c2e8",
        "colab": {
          "base_uri": "https://localhost:8080/"
        }
      },
      "outputs": [
        {
          "output_type": "stream",
          "name": "stdout",
          "text": [
            "driving my car to school is easier for me.\n",
            "I enjoy riding my bike around my neighborhood.\n",
            "I love going on my friends boat in New Hampshire every summer.\n"
          ]
        }
      ],
      "source": [
        "transportation = ['car','bike','boat']\n",
        "transportation_modes = f\"{transportation}\"\n",
        "message = f'driving my {transportation[0]} to school is easier for me.'\n",
        "message_1 = f'I enjoy riding my {transportation[1]} around my neighborhood.'\n",
        "message_2 = f'I love going on my friends {transportation[2]} in New Hampshire every summer.'\n",
        "print(message)\n",
        "print(message_1)\n",
        "print(message_2)"
      ]
    },
    {
      "cell_type": "markdown",
      "metadata": {
        "id": "L-ZP8HKls9OK"
      },
      "source": [
        "## Question 4\n",
        "**Guest List:** If you could invite anyone, living or deceased, to dinner, who would you invite? Make a list that includes at least three people you’d like to invite to dinner. Then use your list to print a message to each person, inviting them to dinner."
      ]
    },
    {
      "cell_type": "code",
      "execution_count": 40,
      "metadata": {
        "id": "5L37FsCcs9OK",
        "outputId": "2848af34-f7ec-4c08-8e75-6f942f699a1f",
        "colab": {
          "base_uri": "https://localhost:8080/"
        }
      },
      "outputs": [
        {
          "output_type": "stream",
          "name": "stdout",
          "text": [
            "Good evening Ms.Nanna Hilmarsdottir, I would like to formally invite you to dinner tonight, and please bring your guitar.\n",
            "Good evening Mr.George Lucas, I would like to formally invite you, along with mr.Dave Filoni, to dinner tonight to discuss the future of Star Wars.\n",
            "Good evening Mr.Dave Filoni, I would like to formally invite you, along with mr.George Lucas, to dinner tonight to discuss the future of Star Wars.\n"
          ]
        }
      ],
      "source": [
        "guest_list = ['Nanna Hilmarsdottir','George Lucas','Dave Filoni']\n",
        "guest_list_1 = f'{guest_list}'\n",
        "message = f'Good evening Ms.{guest_list[0]}, I would like to formally invite you to dinner tonight, and please bring your guitar.'\n",
        "message_1 = f'Good evening Mr.{guest_list[1]}, I would like to formally invite you, along with mr.{guest_list[2]}, to dinner tonight to discuss the future of Star Wars.'\n",
        "message_2 = f'Good evening Mr.{guest_list[2]}, I would like to formally invite you, along with mr.{guest_list[1]}, to dinner tonight to discuss the future of Star Wars.'\n",
        "print(message)\n",
        "print(message_1)\n",
        "print(message_2)"
      ]
    },
    {
      "cell_type": "markdown",
      "metadata": {
        "id": "o2611fj1s9OK"
      },
      "source": [
        "## Question 5\n",
        "**Changing Guest List:** You just heard that one of your guests can’t make the dinner, so you need to send out a new set of invitations. You’ll have to think of someone else to invite."
      ]
    },
    {
      "cell_type": "markdown",
      "metadata": {
        "id": "WxKt-LgJs9OL"
      },
      "source": [
        "Start with your program from Question 4. Add a print() call at the end of your program stating the name of the guest who can’t make it."
      ]
    },
    {
      "cell_type": "code",
      "execution_count": 43,
      "metadata": {
        "id": "VClZ06QQs9OL",
        "outputId": "43aeb8e8-1c68-4bf1-9462-c892749ed11c",
        "colab": {
          "base_uri": "https://localhost:8080/"
        }
      },
      "outputs": [
        {
          "output_type": "stream",
          "name": "stdout",
          "text": [
            "Nanna Hilmarsdottir\n"
          ]
        }
      ],
      "source": [
        "guest_list = ['Nanna Hilmarsdottir','George Lucas','Dave Filoni']\n",
        "print(guest_list[0])"
      ]
    },
    {
      "cell_type": "markdown",
      "metadata": {
        "id": "VQgKN72gs9OL"
      },
      "source": [
        "Modify your list, replacing the name of the guest who can’t make it with the name of the new person you are inviting."
      ]
    },
    {
      "cell_type": "code",
      "execution_count": 49,
      "metadata": {
        "id": "U4pFHCurs9OL"
      },
      "outputs": [],
      "source": [
        "guest_list = ['Alex Damon','George Lucas','Dave Filoni']"
      ]
    },
    {
      "cell_type": "markdown",
      "metadata": {
        "id": "6SuSr0Sls9OL"
      },
      "source": [
        "Print a second set of invitation messages, one for each person who is still in your list."
      ]
    },
    {
      "cell_type": "code",
      "execution_count": 52,
      "metadata": {
        "id": "T4whQPg3s9OL",
        "outputId": "c4b8b64a-ea65-4c0a-a017-c747b1673751",
        "colab": {
          "base_uri": "https://localhost:8080/"
        }
      },
      "outputs": [
        {
          "output_type": "stream",
          "name": "stdout",
          "text": [
            "Good evening Mr.Alex Damon, I would like to formally invite you to dinner tonight, along with Mr.George Lucas and Mr.Dave Filoni, to discuss the future of Star Wars.\n",
            "Good evening Mr.George Lucas, I would like to formally invite you, along with mr.Dave Filoni, to dinner tonight to discuss the future of Star Wars. My guest Mr.Alex Damon will also be in attendance.\n",
            "Good evening Mr.Dave Filoni, I would like to formally invite you, along with mr.George Lucas, to dinner tonight to discuss the future of Star Wars. My guest Mr.Alex Damon will also be in attendance.\n"
          ]
        }
      ],
      "source": [
        "guest_list = ['Alex Damon','George Lucas','Dave Filoni']\n",
        "guest_list_1 = f'{guest_list}'\n",
        "message = f'Good evening Mr.{guest_list[0]}, I would like to formally invite you to dinner tonight, along with Mr.{guest_list[1]} and Mr.{guest_list[2]}, to discuss the future of Star Wars.'\n",
        "message_1 = f'Good evening Mr.{guest_list[1]}, I would like to formally invite you, along with mr.{guest_list[2]}, to dinner tonight to discuss the future of Star Wars. My guest Mr.{guest_list[0]} will also be in attendance.'\n",
        "message_2 = f'Good evening Mr.{guest_list[2]}, I would like to formally invite you, along with mr.{guest_list[1]}, to dinner tonight to discuss the future of Star Wars. My guest Mr.{guest_list[0]} will also be in attendance.'\n",
        "print(message)\n",
        "print(message_1)\n",
        "print(message_2)"
      ]
    },
    {
      "cell_type": "markdown",
      "metadata": {
        "id": "cBQLrwe9s9OL"
      },
      "source": [
        "## Question 6\n",
        "**More Guests:** You just found a bigger dinner table, so now more space is available. Think of three more guests to invite to dinner."
      ]
    },
    {
      "cell_type": "markdown",
      "metadata": {
        "id": "X7qGPMSss9OL"
      },
      "source": [
        "Start with your program from Question 4 or Question 5. Add a print() call to the end of your program informing people that you found a bigger dinner table."
      ]
    },
    {
      "cell_type": "code",
      "execution_count": 38,
      "metadata": {
        "id": "SiD-IYCFs9OL",
        "outputId": "3e08b144-9e89-4c9c-e9bc-ea9e410bfafa",
        "colab": {
          "base_uri": "https://localhost:8080/"
        }
      },
      "outputs": [
        {
          "output_type": "stream",
          "name": "stdout",
          "text": [
            "Hello Matt, Scott and Flint, I would like to formally invite you to dinner tonight with Mr.Alex Damon, Mr.George Lucas, and Mr.Dave Filoni.\n",
            "Hello Mr.Alex Damon, Mr.George Lucas, and Mr.Dave Filoni, I found a bigger dinner table and will be inviting my friends Matt, Scott and Flint to dinner as well. See you tonight.\n"
          ]
        }
      ],
      "source": [
        "guest_list = ['Alex Damon','George Lucas','Dave Filoni']\n",
        "names = ['Matt','Scott','Flint','Kyle']\n",
        "guest_list_1 = f'{guest_list}'\n",
        "names_1 = f'{names}'\n",
        "message = f'Hello {names[0]}, {names[1]} and {names[2]}, I would like to formally invite you to dinner tonight with Mr.{guest_list[0]}, Mr.{guest_list[1]}, and Mr.{guest_list[2]}.'\n",
        "print(message)\n",
        "message_1 = f'Hello Mr.{guest_list[0]}, Mr.{guest_list[1]}, and Mr.{guest_list[2]}, I found a bigger dinner table and will be inviting my friends {names[0]}, {names[1]} and {names[2]} to dinner as well. See you tonight.'\n",
        "print(message_1)"
      ]
    },
    {
      "cell_type": "markdown",
      "metadata": {
        "id": "iLbleyGns9OL"
      },
      "source": [
        "Use insert() to add one new guest to the beginning of your list."
      ]
    },
    {
      "cell_type": "code",
      "execution_count": 39,
      "metadata": {
        "id": "ZurD4LSts9OL",
        "outputId": "3686326d-4bdd-452c-f9ff-4bcaa5f50844",
        "colab": {
          "base_uri": "https://localhost:8080/"
        }
      },
      "outputs": [
        {
          "output_type": "stream",
          "name": "stdout",
          "text": [
            "['Matt', 'Alex Damon', 'George Lucas', 'Dave Filoni']\n"
          ]
        }
      ],
      "source": [
        "guest_list = ['Alex Damon','George Lucas','Dave Filoni']\n",
        "guest_list.insert(0, 'Matt')\n",
        "print(guest_list)"
      ]
    },
    {
      "cell_type": "markdown",
      "metadata": {
        "id": "fdACLrO3s9OL"
      },
      "source": [
        "Use insert() to add one new guest to the middle of your list."
      ]
    },
    {
      "cell_type": "code",
      "execution_count": 41,
      "metadata": {
        "id": "ivcEnyJds9OL",
        "outputId": "95690455-1976-4a36-af65-5bd097184c91",
        "colab": {
          "base_uri": "https://localhost:8080/"
        }
      },
      "outputs": [
        {
          "output_type": "stream",
          "name": "stdout",
          "text": [
            "['Alex Damon', 'George Lucas', 'Scott', 'Dave Filoni']\n"
          ]
        }
      ],
      "source": [
        "guest_list = ['Alex Damon','George Lucas','Dave Filoni']\n",
        "guest_list.insert(2, 'Scott')\n",
        "print(guest_list)"
      ]
    },
    {
      "cell_type": "markdown",
      "metadata": {
        "id": "SfI3CB2us9OL"
      },
      "source": [
        "Use append() to add one new guest to the end of your list."
      ]
    },
    {
      "cell_type": "code",
      "execution_count": 43,
      "metadata": {
        "id": "T3d5sckgs9OL",
        "outputId": "53e2112c-9782-4785-8255-b90608f91764",
        "colab": {
          "base_uri": "https://localhost:8080/"
        }
      },
      "outputs": [
        {
          "output_type": "stream",
          "name": "stdout",
          "text": [
            "['Alex Damon', 'George Lucas', 'Dave Filoni', 'Flint']\n"
          ]
        }
      ],
      "source": [
        "guest_list = ['Alex Damon','George Lucas','Dave Filoni']\n",
        "guest_list.append('Flint')\n",
        "print(guest_list)"
      ]
    },
    {
      "cell_type": "markdown",
      "metadata": {
        "id": "2ge9xDOCs9OL"
      },
      "source": [
        "Print a new set of invitation messages, one for each person in your list."
      ]
    },
    {
      "cell_type": "code",
      "execution_count": 58,
      "metadata": {
        "id": "qp_BEhqAs9OL",
        "outputId": "0025c93e-65b9-4cb3-a88f-9d4ceb8a5ac3",
        "colab": {
          "base_uri": "https://localhost:8080/"
        }
      },
      "outputs": [
        {
          "output_type": "stream",
          "name": "stdout",
          "text": [
            "Hello Mr.Alex Damon, I would like to formally invite you to dinner tonight.\n",
            "Hello Mr.George Lucas, I would like to formally invite you to dinner tonight.\n",
            "Hello Mr.Dave Filoni, I would like to formally invite you to dinner tonight.\n",
            "Hello Matt, I would like to formally invite you to dinner tonight.\n",
            "Hello Scott, I would like to formally invite you to dinner tonight.\n",
            "Hello Flint, I would like to formally invite you to dinner tonight.\n"
          ]
        }
      ],
      "source": [
        "from re import T\n",
        "guest_list = ['Alex Damon','George Lucas','Dave Filoni','Matt','Scott','Flint']\n",
        "guest_list_1 = f'{guest_list}'\n",
        "message = f'Hello Mr.{guest_list[0]}, I would like to formally invite you to dinner tonight.'f'\\nHello Mr.{guest_list[1]}, I would like to formally invite you to dinner tonight.'f'\\nHello Mr.{guest_list[2]}, I would like to formally invite you to dinner tonight.'f'\\nHello {guest_list[3]}, I would like to formally invite you to dinner tonight.'f'\\nHello {guest_list[4]}, I would like to formally invite you to dinner tonight.'f'\\nHello {guest_list[5]}, I would like to formally invite you to dinner tonight.'\n",
        "print(message)"
      ]
    },
    {
      "cell_type": "markdown",
      "metadata": {
        "id": "nd63VLeAs9OL"
      },
      "source": [
        "## Question 7\n",
        "**Shrinking Guest List:** You just found out that your new dinner table won’t arrive in time for the dinner, and you have space for only two guests.\n",
        "\n",
        "Start with your program from Question 6. Add a new line that prints a message saying that you can invite only two people for dinner."
      ]
    },
    {
      "cell_type": "code",
      "execution_count": 59,
      "metadata": {
        "id": "XrxTPCFLs9OL",
        "outputId": "235ffbaa-535b-41a4-fcc9-7a30b5a10279",
        "colab": {
          "base_uri": "https://localhost:8080/"
        }
      },
      "outputs": [
        {
          "output_type": "stream",
          "name": "stdout",
          "text": [
            "Hello everyone, unfortunately my dinner table will not arrive in time and I will only be able to invite two of you to dinner.\n"
          ]
        }
      ],
      "source": [
        "guest_list = ['Alex Damon','George Lucas','Dave Filoni','Matt','Scott','Flint']\n",
        "guest_list_1 = f'{guest_list}'\n",
        "message = f'Hello everyone, unfortunately my dinner table will not arrive in time and I will only be able to invite two of you to dinner.'\n",
        "print(message)"
      ]
    },
    {
      "cell_type": "markdown",
      "metadata": {
        "id": "YWrpZyTKs9OL"
      },
      "source": [
        "Use pop() to remove guests from your list one at a time until only two names remain in your list. Each time you pop a name from your list, print a message to that person letting them know you’re sorry you can’t invite them to dinner."
      ]
    },
    {
      "cell_type": "code",
      "execution_count": 75,
      "metadata": {
        "id": "J8SknmH6s9OL",
        "outputId": "17b19dfd-2108-4a84-a9e1-7bcca2c318d8",
        "colab": {
          "base_uri": "https://localhost:8080/"
        }
      },
      "outputs": [
        {
          "output_type": "stream",
          "name": "stdout",
          "text": [
            "['Alex Damon', 'George Lucas', 'Dave Filoni', 'Matt', 'Scott', 'Flint']\n",
            "['Alex Damon', 'George Lucas', 'Dave Filoni', 'Matt', 'Scott']\n",
            "I am sorry Flint, but I only have enough seats for 2 tonight.\n",
            "['Alex Damon', 'George Lucas', 'Dave Filoni', 'Matt']\n",
            "I am sorry Scott, but I only have enough seats for 2 tonight.\n",
            "['Alex Damon', 'George Lucas', 'Dave Filoni']\n",
            "I am sorry Matt, but I only have enough seats for 2 tonight.\n",
            "['Alex Damon', 'George Lucas']\n",
            "I am sorry Mr. Dave Filoni, but I only have enough seats for 2 tonight.\n"
          ]
        }
      ],
      "source": [
        "guest_list = ['Alex Damon','George Lucas','Dave Filoni','Matt','Scott','Flint']\n",
        "guest_list_1 = f'{guest_list}'\n",
        "print(guest_list)\n",
        "popped_guest_list = guest_list.pop()\n",
        "print(guest_list)\n",
        "message = f'I am sorry {popped_guest_list}, but I only have enough seats for 2 tonight.'\n",
        "print(message)\n",
        "popped_guest_list = guest_list.pop()\n",
        "print(guest_list)\n",
        "message_1 = f'I am sorry {popped_guest_list}, but I only have enough seats for 2 tonight.'\n",
        "print(message_1)\n",
        "popped_guest_list = guest_list.pop()\n",
        "print(guest_list)\n",
        "message_2 = f'I am sorry {popped_guest_list}, but I only have enough seats for 2 tonight.'\n",
        "print(message_2)\n",
        "popped_guest_list = guest_list.pop()\n",
        "print(guest_list)\n",
        "message_3 = f'I am sorry Mr. {popped_guest_list}, but I only have enough seats for 2 tonight.'\n",
        "print(message_3)"
      ]
    },
    {
      "cell_type": "markdown",
      "metadata": {
        "id": "QS0BAr1ps9OM"
      },
      "source": [
        "Print a message to each of the two people still on your list, letting them know they’re still invited."
      ]
    },
    {
      "cell_type": "code",
      "execution_count": 82,
      "metadata": {
        "id": "tbn5dC89s9OM",
        "outputId": "8b9effa6-c2c4-42be-f4e6-592079371562",
        "colab": {
          "base_uri": "https://localhost:8080/"
        }
      },
      "outputs": [
        {
          "output_type": "stream",
          "name": "stdout",
          "text": [
            "Hello Mr. Alex Damon and Mr. George Lucas, unfortunately I only have enough space for 2 people, so the others will not be joing us tonight.\n"
          ]
        }
      ],
      "source": [
        "guest_list = ['Alex Damon','George Lucas','Dave Filoni','Matt','Scott','Flint']\n",
        "guest_list_1 = f'{guest_list}'\n",
        "message = f'Hello Mr. {guest_list[0]} and Mr. {guest_list[1]}, unfortunately I only have enough space for 2 people, so the others will not be joing us tonight.'\n",
        "print(message)"
      ]
    },
    {
      "cell_type": "markdown",
      "metadata": {
        "id": "l5dAzS1us9OM"
      },
      "source": [
        "Use del to remove the last two names from your list, so you have an empty list. Print your list to make sure you actually have an empty list at the end of your program."
      ]
    },
    {
      "cell_type": "code",
      "execution_count": 96,
      "metadata": {
        "id": "VT8F6FCVs9OM",
        "outputId": "4e4adcb5-a730-4217-c4d2-5f72b0424924",
        "colab": {
          "base_uri": "https://localhost:8080/"
        }
      },
      "outputs": [
        {
          "output_type": "stream",
          "name": "stdout",
          "text": [
            "[]\n"
          ]
        }
      ],
      "source": [
        "guest_list = ['Alex Damon','George Lucas','Dave Filoni','Matt','Scott','Flint']\n",
        "guest_list_1 = f'{guest_list}'\n",
        "del guest_list[0:6]\n",
        "print(guest_list)"
      ]
    },
    {
      "cell_type": "markdown",
      "metadata": {
        "id": "vpaWDbnps9OM"
      },
      "source": [
        "## Question 8\n",
        "**Seeing the World:** Think of at least five places in the world you’d like to visit.\n",
        "\n",
        "Store the locations in a list. Make sure the list is not in alphabetical order."
      ]
    },
    {
      "cell_type": "code",
      "execution_count": null,
      "metadata": {
        "id": "7Ckvp0WPs9OM"
      },
      "outputs": [],
      "source": [
        "bucket_list = ['Scotland','Finland','Cyprus','Namibia','Turkmenistan']"
      ]
    },
    {
      "cell_type": "markdown",
      "metadata": {
        "id": "5hoIEzXUs9OP"
      },
      "source": [
        "Print your list in its original order. Don’t worry about printing the list neatly, just print it as a raw Python list."
      ]
    },
    {
      "cell_type": "code",
      "execution_count": 54,
      "metadata": {
        "id": "ojili7fqs9OP",
        "outputId": "7edd5f79-0005-412a-e81b-f75789127367",
        "colab": {
          "base_uri": "https://localhost:8080/"
        }
      },
      "outputs": [
        {
          "output_type": "stream",
          "name": "stdout",
          "text": [
            "['Scotland', 'Finland', 'Cyprus', 'Namibia', 'Turkmenistan']\n"
          ]
        }
      ],
      "source": [
        "bucket_list = ['Scotland','Finland','Cyprus','Namibia','Turkmenistan']\n",
        "print(bucket_list)"
      ]
    },
    {
      "cell_type": "markdown",
      "metadata": {
        "id": "6B5l4MNZs9OP"
      },
      "source": [
        "Use sorted() to print your list in alphabetical order without modifying the actual list."
      ]
    },
    {
      "cell_type": "code",
      "execution_count": 56,
      "metadata": {
        "id": "a3aLOKzas9OP",
        "outputId": "bbeb6f92-2b05-4fe6-8414-a1f46561ca8a",
        "colab": {
          "base_uri": "https://localhost:8080/"
        }
      },
      "outputs": [
        {
          "output_type": "stream",
          "name": "stdout",
          "text": [
            "['Cyprus', 'Finland', 'Namibia', 'Scotland', 'Turkmenistan']\n"
          ]
        }
      ],
      "source": [
        "bucket_list = ['Scotland','Finland','Cyprus','Namibia','Turkmenistan']\n",
        "print(sorted(bucket_list))"
      ]
    },
    {
      "cell_type": "markdown",
      "metadata": {
        "id": "NHlrRJr0s9OP"
      },
      "source": [
        "Show that your list is still in its original order by printing it."
      ]
    },
    {
      "cell_type": "code",
      "execution_count": 57,
      "metadata": {
        "id": "EbG5Qhmts9OP",
        "outputId": "4162055f-9c30-4b27-d178-4eb0882d51ec",
        "colab": {
          "base_uri": "https://localhost:8080/"
        }
      },
      "outputs": [
        {
          "output_type": "stream",
          "name": "stdout",
          "text": [
            "['Scotland', 'Finland', 'Cyprus', 'Namibia', 'Turkmenistan']\n"
          ]
        }
      ],
      "source": [
        "print(bucket_list)"
      ]
    },
    {
      "cell_type": "markdown",
      "metadata": {
        "id": "CGD6xMtps9OP"
      },
      "source": [
        "Use sorted() to print your list in reverse alphabetical order without changing the order of the original list."
      ]
    },
    {
      "cell_type": "code",
      "execution_count": 105,
      "metadata": {
        "id": "Cse4JpLZs9OP",
        "outputId": "60e5e6d3-4fae-497e-9adf-400fb6f85461",
        "colab": {
          "base_uri": "https://localhost:8080/"
        }
      },
      "outputs": [
        {
          "output_type": "stream",
          "name": "stdout",
          "text": [
            "['Cyprus', 'Finland', 'Namibia', 'Scotland', 'Turkmenistan']\n",
            "['Turkmenistan', 'Scotland', 'Namibia', 'Finland', 'Cyprus']\n"
          ]
        }
      ],
      "source": [
        "bucket_list = ['Scotland','Finland','Cyprus','Namibia','Turkmenistan']\n",
        "print(sorted(bucket_list))\n",
        "sorted_bucket_list = sorted(bucket_list, reverse=True)\n",
        "print(sorted_bucket_list)"
      ]
    },
    {
      "cell_type": "markdown",
      "metadata": {
        "id": "mwt-FzJEs9OP"
      },
      "source": [
        "Show that your list is still in its original order by printing it again."
      ]
    },
    {
      "cell_type": "code",
      "execution_count": 85,
      "metadata": {
        "id": "3gLFa_j0s9OP",
        "outputId": "7b33066f-fa26-4bea-94a4-4daf79c2f4dc",
        "colab": {
          "base_uri": "https://localhost:8080/"
        }
      },
      "outputs": [
        {
          "output_type": "stream",
          "name": "stdout",
          "text": [
            "['Scotland', 'Finland', 'Cyprus', 'Namibia', 'Turkmenistan']\n"
          ]
        }
      ],
      "source": [
        "print(bucket_list)"
      ]
    },
    {
      "cell_type": "markdown",
      "metadata": {
        "id": "Ef3a2Fqqs9OP"
      },
      "source": [
        "Use reverse() to change the order of your list. Print the list to show that its order has changed."
      ]
    },
    {
      "cell_type": "code",
      "execution_count": 86,
      "metadata": {
        "id": "S4r-6TJHs9OP",
        "outputId": "c4f9e22a-25c8-4d49-a12d-2e4e9a1c4a86",
        "colab": {
          "base_uri": "https://localhost:8080/"
        }
      },
      "outputs": [
        {
          "output_type": "stream",
          "name": "stdout",
          "text": [
            "['Turkmenistan', 'Namibia', 'Cyprus', 'Finland', 'Scotland']\n"
          ]
        }
      ],
      "source": [
        "bucket_list.reverse()\n",
        "print(bucket_list)"
      ]
    },
    {
      "cell_type": "markdown",
      "metadata": {
        "id": "guAizrDKs9OP"
      },
      "source": [
        "Use reverse() to change the order of your list again. Print the list to show it’s back to its original order."
      ]
    },
    {
      "cell_type": "code",
      "execution_count": 88,
      "metadata": {
        "id": "UjtTauSGs9OP",
        "outputId": "e65308f4-1742-4780-e726-24d13e38c012",
        "colab": {
          "base_uri": "https://localhost:8080/"
        }
      },
      "outputs": [
        {
          "output_type": "stream",
          "name": "stdout",
          "text": [
            "['Scotland', 'Finland', 'Cyprus', 'Namibia', 'Turkmenistan']\n"
          ]
        }
      ],
      "source": [
        "bucket_list.reverse()\n",
        "print(bucket_list)"
      ]
    },
    {
      "cell_type": "markdown",
      "metadata": {
        "id": "mQ3Cpn7Ws9OP"
      },
      "source": [
        "Use sort() to change your list so it’s stored in alphabetical order. Print the list to show that its order has been changed."
      ]
    },
    {
      "cell_type": "code",
      "execution_count": 89,
      "metadata": {
        "id": "DQjPd3yMs9OP",
        "outputId": "8e00fb11-c1fd-4aa1-94cc-3c50fa4a8ec3",
        "colab": {
          "base_uri": "https://localhost:8080/"
        }
      },
      "outputs": [
        {
          "output_type": "stream",
          "name": "stdout",
          "text": [
            "['Cyprus', 'Finland', 'Namibia', 'Scotland', 'Turkmenistan']\n"
          ]
        }
      ],
      "source": [
        "print(sorted(bucket_list))"
      ]
    },
    {
      "cell_type": "markdown",
      "metadata": {
        "id": "PQkGEPVxs9OP"
      },
      "source": [
        "Use sort() to change your list so it’s stored in reverse alphabetical order. Print the list to show that its order has changed."
      ]
    },
    {
      "cell_type": "code",
      "execution_count": 114,
      "metadata": {
        "id": "sV9OjqpUs9OP",
        "outputId": "7c4f3ecd-2422-4a53-af60-dd7decb6072d",
        "colab": {
          "base_uri": "https://localhost:8080/"
        }
      },
      "outputs": [
        {
          "output_type": "stream",
          "name": "stdout",
          "text": [
            "['Turkmenistan', 'Scotland', 'Namibia', 'Finland', 'Cyprus']\n"
          ]
        }
      ],
      "source": [
        "print(sorted_bucket_list)"
      ]
    },
    {
      "cell_type": "markdown",
      "metadata": {
        "id": "qMhroQ8Js9OP"
      },
      "source": [
        "## Question 9\n",
        "**Dinner Guests:** Working with one of the programs from Question 4 through Question 7, use len() to print a message indicating the number of people you are inviting to dinner."
      ]
    },
    {
      "cell_type": "code",
      "execution_count": 1,
      "metadata": {
        "id": "HJaLwItSs9OP",
        "outputId": "259f057c-4517-4bb6-8c9c-ef24ef766f3f",
        "colab": {
          "base_uri": "https://localhost:8080/"
        }
      },
      "outputs": [
        {
          "output_type": "execute_result",
          "data": {
            "text/plain": [
              "3"
            ]
          },
          "metadata": {},
          "execution_count": 1
        }
      ],
      "source": [
        "guest_list = ['Alex Damon','George Lucas','Dave Filoni']\n",
        "len(guest_list)"
      ]
    },
    {
      "cell_type": "markdown",
      "metadata": {
        "id": "M5aXMcqUs9OP"
      },
      "source": [
        "## Question 10\n",
        "**Every Function:** Think of something you could store in a list. For example, you could make a list of mountains, rivers, countries, cities, languages, or anything else you’d like. Write a program that creates a list containing these items and then uses each function introduced in this chapter at least once."
      ]
    },
    {
      "cell_type": "code",
      "execution_count": 10,
      "metadata": {
        "id": "BK3YGDdIs9OQ",
        "outputId": "d9035608-3c55-483b-b7fb-3eb2449cdb5c",
        "colab": {
          "base_uri": "https://localhost:8080/"
        }
      },
      "outputs": [
        {
          "output_type": "stream",
          "name": "stdout",
          "text": [
            "The Patriots are my favorite team.\n",
            "['Chargers', 'Lions', 'Patriots', 'Titans']\n",
            "['Titans', 'Chargers', 'Lions', 'Patriots']\n"
          ]
        },
        {
          "output_type": "execute_result",
          "data": {
            "text/plain": [
              "4"
            ]
          },
          "metadata": {},
          "execution_count": 10
        }
      ],
      "source": [
        "football_teams = ['Patriots','Lions','Chargers','Titans']\n",
        "football_teams_1 = f'{football_teams}'\n",
        "message = f'The {football_teams[0]} are my favorite team.'\n",
        "print(message)\n",
        "print(sorted(football_teams))\n",
        "football_teams.reverse()\n",
        "print(football_teams)\n",
        "len(football_teams)"
      ]
    }
  ],
  "metadata": {
    "kernelspec": {
      "display_name": "Python 3 (ipykernel)",
      "language": "python",
      "name": "python3"
    },
    "language_info": {
      "codemirror_mode": {
        "name": "ipython",
        "version": 3
      },
      "file_extension": ".py",
      "mimetype": "text/x-python",
      "name": "python",
      "nbconvert_exporter": "python",
      "pygments_lexer": "ipython3",
      "version": "3.8.10"
    },
    "colab": {
      "provenance": []
    }
  },
  "nbformat": 4,
  "nbformat_minor": 0
}